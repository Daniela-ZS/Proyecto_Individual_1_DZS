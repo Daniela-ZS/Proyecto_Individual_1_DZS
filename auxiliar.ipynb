{
 "cells": [
  {
   "cell_type": "code",
   "execution_count": 1,
   "metadata": {},
   "outputs": [],
   "source": [
    "import pandas as pd"
   ]
  },
  {
   "attachments": {},
   "cell_type": "markdown",
   "metadata": {},
   "source": [
    "TRANSFORMACIONES"
   ]
  },
  {
   "cell_type": "code",
   "execution_count": 2,
   "metadata": {},
   "outputs": [],
   "source": [
    "# Importo los datos de las plataformas\n",
    "amazon = pd.read_csv('amazon_prime_titles.csv')\n",
    "disney = pd.read_csv('disney_plus_titles.csv')\n",
    "hulu = pd.read_csv('hulu_titles.csv')\n",
    "netflix = pd.read_csv('netflix_titles.csv')"
   ]
  },
  {
   "cell_type": "code",
   "execution_count": 6,
   "metadata": {},
   "outputs": [],
   "source": [
    "# Genero campo id\n",
    "amazon[\"id\"] = \"a\" + amazon[\"show_id\"]\n",
    "disney[\"id\"] = \"d\" + disney[\"show_id\"]\n",
    "hulu[\"id\"] = \"h\" + hulu[\"show_id\"]\n",
    "netflix[\"id\"] = \"n\" + netflix[\"show_id\"]"
   ]
  },
  {
   "cell_type": "code",
   "execution_count": 30,
   "metadata": {},
   "outputs": [],
   "source": [
    "# Armo un solo df para realizar el resto de las transformaciones (para realizarlas una sola vez y no cuatro)\n",
    "bbdd_plat = pd.concat([amazon, disney, hulu, netflix], ignore_index=True)"
   ]
  },
  {
   "cell_type": "code",
   "execution_count": 31,
   "metadata": {},
   "outputs": [],
   "source": [
    "# Reorganizo las columnas de bbdd_plataformas\n",
    "bbdd_plat = bbdd_plat.reindex(columns=['id','show_id','type','title','director','cast','country','date_added','release_year','rating','duration','listed_in','description'])\n"
   ]
  },
  {
   "cell_type": "code",
   "execution_count": 32,
   "metadata": {},
   "outputs": [],
   "source": [
    "# Reemplazo los campos nulos de la columna 'rating' por 'g'\n",
    "bbdd_plat['rating'].fillna(\"G\", inplace=True)"
   ]
  },
  {
   "cell_type": "code",
   "execution_count": 33,
   "metadata": {},
   "outputs": [],
   "source": [
    "# Cambio formato de fechas a AAAA-mm-dd\n",
    "bbdd_plat['date_added'] = pd.to_datetime(bbdd_plat['date_added'])"
   ]
  },
  {
   "cell_type": "code",
   "execution_count": 34,
   "metadata": {},
   "outputs": [],
   "source": [
    "# Expreso los campos de texto en minúscula\n",
    "bbdd_plat['show_id'] = bbdd_plat['show_id'].str.lower()\n",
    "bbdd_plat['type'] = bbdd_plat['type'].str.lower()\n",
    "bbdd_plat['title'] = bbdd_plat['title'].str.lower()\n",
    "bbdd_plat['director'] = bbdd_plat['director'].str.lower()\n",
    "bbdd_plat['cast'] = bbdd_plat['cast'].str.lower()\n",
    "bbdd_plat['country'] = bbdd_plat['country'].str.lower()\n",
    "bbdd_plat['rating'] = bbdd_plat['rating'].str.lower()\n",
    "bbdd_plat['duration'] = bbdd_plat['duration'].str.lower()\n",
    "bbdd_plat['listed_in'] = bbdd_plat['listed_in'].str.lower()\n",
    "bbdd_plat['description'] = bbdd_plat['description'].str.lower()"
   ]
  },
  {
   "cell_type": "code",
   "execution_count": 35,
   "metadata": {},
   "outputs": [
    {
     "name": "stderr",
     "output_type": "stream",
     "text": [
      "C:\\Users\\Daniela\\AppData\\Local\\Temp\\ipykernel_2884\\406192419.py:2: FutureWarning: In a future version of pandas all arguments of StringMethods.split except for the argument 'pat' will be keyword-only.\n",
      "  bbdd_plat[['duration_int', 'duration_type']] = bbdd_plat['duration'].str.split(' ', 1, expand=True)\n"
     ]
    }
   ],
   "source": [
    "# Divido el campo duration en dos campos: duration_int (int) y duration_type (str)\n",
    "bbdd_plat[['duration_int', 'duration_type']] = bbdd_plat['duration'].str.split(' ', 1, expand=True)"
   ]
  },
  {
   "cell_type": "code",
   "execution_count": 25,
   "metadata": {},
   "outputs": [],
   "source": [
    "# Ahora trabajo con los datos de 'Rating'\n",
    "rating1 = pd.read_csv('1.csv')\n",
    "rating2 = pd.read_csv('2.csv')\n",
    "rating3 = pd.read_csv('3.csv')\n",
    "rating4 = pd.read_csv('4.csv')\n",
    "rating5 = pd.read_csv('5.csv')\n",
    "rating6 = pd.read_csv('6.csv')\n",
    "rating7 = pd.read_csv('7.csv')\n",
    "rating8 = pd.read_csv('8.csv')"
   ]
  },
  {
   "cell_type": "code",
   "execution_count": 26,
   "metadata": {},
   "outputs": [],
   "source": [
    "# Uno todos los 'ratings' en un solo df\n",
    "ratings_compl = pd.concat([rating1, rating2, rating3, rating4, rating5, rating6, rating7, rating8], ignore_index=True)"
   ]
  },
  {
   "cell_type": "code",
   "execution_count": 36,
   "metadata": {},
   "outputs": [],
   "source": [
    "# Cambio el nombre de la columna movieId por id para poder unirla a bbdd_plataformas, rating por score, \n",
    "ratings_compl.rename(columns={'movieId': 'id'}, inplace=True)\n",
    "ratings_compl.rename(columns={'rating': 'score'}, inplace=True)"
   ]
  },
  {
   "cell_type": "code",
   "execution_count": 37,
   "metadata": {},
   "outputs": [],
   "source": [
    "# Agrupo los score según id\n",
    "rating_promedio = ratings_compl.groupby('id').mean()"
   ]
  },
  {
   "cell_type": "code",
   "execution_count": 38,
   "metadata": {},
   "outputs": [],
   "source": [
    "# Uno los dataframes bbdd_plataformas y ratings:\n",
    "bbdd_plat_compl = pd.merge(bbdd_plat,rating_promedio, on=[\"id\"])"
   ]
  },
  {
   "cell_type": "code",
   "execution_count": 40,
   "metadata": {},
   "outputs": [],
   "source": [
    "# Elimino las comumnas duration, user_id y timestamp que son innecesarias para el estudio\n",
    "bbdd_plat_compl.drop(columns=['duration', 'userId', 'timestamp'], inplace=True)"
   ]
  },
  {
   "cell_type": "code",
   "execution_count": 41,
   "metadata": {},
   "outputs": [],
   "source": [
    "# Exporto la bbdd\n",
    "bbdd_plat_compl.to_csv(\"bbdd_plataformas_completo.csv\", sep=';')"
   ]
  },
  {
   "attachments": {},
   "cell_type": "markdown",
   "metadata": {},
   "source": [
    "Realizo las funciones para las consultas en la API"
   ]
  },
  {
   "cell_type": "code",
   "execution_count": 42,
   "metadata": {},
   "outputs": [],
   "source": [
    "# •\tPelícula con mayor duración con filtros opcionales de AÑO, PLATAFORMA Y TIPO DE DURACIÓN. (la función debe llamarse \n",
    "# get_max_duration(year, platform, duration_type))\n",
    "\n",
    "def get_max_duration(year, platform, duration_type):\n",
    "    peliculas = []\n",
    "    peli_mayor = []\n",
    "    for indice, x in enumerate (bbdd_plat_compl['release_year']):\n",
    "        if x == year:\n",
    "            if bbdd_plat_compl['id'][indice][0] == platform:\n",
    "                if bbdd_plat_compl['duration_type'][indice] == duration_type:\n",
    "                    peliculas.append(int(bbdd_plat_compl['duration_int'][indice]))\n",
    "                    peli_mayor.append(indice)\n",
    "                    mayor_time = max(peliculas)\n",
    "                    peli = peliculas.index(mayor_time)\n",
    "                    respuesta = bbdd_plat_compl['title'][peli_mayor[peli]]\n",
    "\n",
    "    return respuesta"
   ]
  },
  {
   "cell_type": "code",
   "execution_count": 43,
   "metadata": {},
   "outputs": [
    {
     "name": "stdout",
     "output_type": "stream",
     "text": [
      "dory's reef cam\n"
     ]
    }
   ],
   "source": [
    "print(get_max_duration(2020, 'd', 'min'))"
   ]
  },
  {
   "cell_type": "code",
   "execution_count": 44,
   "metadata": {},
   "outputs": [],
   "source": [
    "# •\tCantidad de películas por plataforma con un puntaje mayor a XX en determinado año \n",
    "# (la función debe llamarse get_score_count(platform, scored, year))\n",
    "\n",
    "def get_score_count(platform, scored, year):\n",
    "    puntaje_mayor = []\n",
    "    for indice, x in enumerate(bbdd_plat_compl['release_year']):\n",
    "        if x == year:\n",
    "            if bbdd_plat_compl['id'][indice][0] == platform:\n",
    "                if bbdd_plat_compl['score'][indice] > scored:\n",
    "                    puntaje_mayor.append(x)\n",
    "    \n",
    "    return len(puntaje_mayor)"
   ]
  },
  {
   "cell_type": "code",
   "execution_count": 45,
   "metadata": {},
   "outputs": [
    {
     "name": "stdout",
     "output_type": "stream",
     "text": [
      "81\n"
     ]
    }
   ],
   "source": [
    "print(get_score_count('d', 3.5, 2020))"
   ]
  },
  {
   "cell_type": "code",
   "execution_count": 46,
   "metadata": {},
   "outputs": [],
   "source": [
    "# •\tCantidad de películas por plataforma con filtro de PLATAFORMA. \n",
    "# (La función debe llamarse get_count_platform(platform))\n",
    "\n",
    "def get_count_platform(platform):\n",
    "    pelis_plataforma = []\n",
    "    for indice, x in enumerate(bbdd_plat_compl['id']):\n",
    "        if bbdd_plat_compl['id'][indice][0] == platform:\n",
    "            pelis_plataforma.append(x)\n",
    "    \n",
    "    return len(pelis_plataforma) \n",
    "    "
   ]
  },
  {
   "cell_type": "code",
   "execution_count": 47,
   "metadata": {},
   "outputs": [
    {
     "name": "stdout",
     "output_type": "stream",
     "text": [
      "1450\n"
     ]
    }
   ],
   "source": [
    "print(get_count_platform('d'))"
   ]
  },
  {
   "cell_type": "code",
   "execution_count": 89,
   "metadata": {},
   "outputs": [],
   "source": [
    "# •\tActor que más se repite según plataforma y año. \n",
    "# (La función debe llamarse get_actor(platform, year))\n",
    "\n",
    "def get_actor(platform, year):\n",
    "    filtro = []\n",
    "    contador = 0\n",
    "    \n",
    "    for indice, x in enumerate(bbdd_plat_compl['release_year']):\n",
    "        if x == year:\n",
    "            if bbdd_plat_compl['id'][indice][0] == platform:\n",
    "                filtro.append(bbdd_plat_compl['cast'][indice])\n",
    "    \n",
    "    for ind, z in enumerate(filtro):\n",
    "        if type(z) == str:\n",
    "            actores = filtro[ind].split(',')\n",
    "    \n",
    "    for ind, z in enumerate(actores):\n",
    "        if actores.count(z) > contador:\n",
    "            contador = actores.count(z)\n",
    "            actor_mayor = actores[ind]\n",
    "\n",
    "    return actor_mayor"
   ]
  },
  {
   "cell_type": "code",
   "execution_count": 90,
   "metadata": {},
   "outputs": [
    {
     "name": "stdout",
     "output_type": "stream",
     "text": [
      "elizabeth olsen\n"
     ]
    }
   ],
   "source": [
    "print(get_actor('d', 2021))"
   ]
  },
  {
   "cell_type": "code",
   "execution_count": 91,
   "metadata": {},
   "outputs": [
    {
     "name": "stdout",
     "output_type": "stream",
     "text": [
      "clara kovacic\n"
     ]
    }
   ],
   "source": [
    "print(get_actor('a', 2020))"
   ]
  }
 ],
 "metadata": {
  "kernelspec": {
   "display_name": "Python 3",
   "language": "python",
   "name": "python3"
  },
  "language_info": {
   "codemirror_mode": {
    "name": "ipython",
    "version": 3
   },
   "file_extension": ".py",
   "mimetype": "text/x-python",
   "name": "python",
   "nbconvert_exporter": "python",
   "pygments_lexer": "ipython3",
   "version": "3.10.7"
  },
  "orig_nbformat": 4
 },
 "nbformat": 4,
 "nbformat_minor": 2
}
