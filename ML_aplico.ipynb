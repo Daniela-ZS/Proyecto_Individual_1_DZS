{
 "cells": [
  {
   "cell_type": "code",
   "execution_count": 6,
   "metadata": {},
   "outputs": [],
   "source": [
    "import pandas as pd\n",
    "import joblib\n",
    "import pickle"
   ]
  },
  {
   "cell_type": "code",
   "execution_count": 39,
   "metadata": {},
   "outputs": [],
   "source": [
    "import gradio as gr"
   ]
  },
  {
   "cell_type": "code",
   "execution_count": 4,
   "metadata": {},
   "outputs": [],
   "source": [
    "# cargar los datos y el modelo entrenado\n",
    "data = pd.read_csv('ratings2.csv', sep= ';')\n",
    "model = joblib.load('modelo_entrenado.pkl')"
   ]
  },
  {
   "cell_type": "code",
   "execution_count": 47,
   "metadata": {},
   "outputs": [],
   "source": [
    "# Defino la función de recomendación. \n",
    "# id_usuario: entre 1 y 124380\n",
    "# id_pelicula: se compone por:    el código de paltaforma (Amazon: 100, Disney:200, Hulu: 300, Netflix: 400) \n",
    "#                               y el id de película/serie (Amazon: entre 1 y 9668, Disney: entre 1 y 1450,\n",
    "#                                                          Hulu: entre 1 y 3073, Netflix: entre 1 y 8807)\n",
    "\n",
    "def hacer_prediccion(id_usuario, id_pelicula):\n",
    "    # Cargo el modelo de machine learning previamente entrenado\n",
    "    with open('modelo_entrenado.pkl', 'rb') as file:\n",
    "        model = joblib.load('modelo_entrenado.pkl')\n",
    "    \n",
    "    # Cargo el archivo CSV con los datos de entrada, elimino columnas que no es usan en el modelo\n",
    "    df = pd.read_csv('ratings2.csv', sep= ';')\n",
    "    df.drop(columns=['Unnamed: 0', 'id', 'visualiza'], inplace= True)\n",
    "    \n",
    "    # Filtro los datos para obtener solo las filas correspondientes al usuario y la película específicos\n",
    "    datos_entrada = df[(df['userId'] == id_usuario) & (df['id_int'] == id_pelicula)]\n",
    "      \n",
    "    # Genero la predicción utilizando el modelo\n",
    "    if len(datos_entrada) > 0:\n",
    "        prediccion = model.predict(datos_entrada)\n",
    "        return 'El usuario vería ese contenido'\n",
    "    \n",
    "    else:\n",
    "        return 'El usuario no vería ese contenido'\n",
    "    \n"
   ]
  },
  {
   "cell_type": "code",
   "execution_count": 48,
   "metadata": {},
   "outputs": [
    {
     "name": "stdout",
     "output_type": "stream",
     "text": [
      "El usuario vería ese contenido\n"
     ]
    }
   ],
   "source": [
    "print(hacer_prediccion(124380, 4005272))"
   ]
  },
  {
   "cell_type": "code",
   "execution_count": 51,
   "metadata": {},
   "outputs": [
    {
     "name": "stdout",
     "output_type": "stream",
     "text": [
      "El usuario no vería ese contenido\n"
     ]
    }
   ],
   "source": [
    "print(hacer_prediccion(5458, 400812))"
   ]
  },
  {
   "cell_type": "code",
   "execution_count": 49,
   "metadata": {},
   "outputs": [
    {
     "name": "stdout",
     "output_type": "stream",
     "text": [
      "El usuario vería ese contenido\n"
     ]
    }
   ],
   "source": [
    "print(hacer_prediccion(1, 1009500))"
   ]
  },
  {
   "cell_type": "code",
   "execution_count": 5,
   "metadata": {},
   "outputs": [
    {
     "data": {
      "text/html": [
       "<div>\n",
       "<style scoped>\n",
       "    .dataframe tbody tr th:only-of-type {\n",
       "        vertical-align: middle;\n",
       "    }\n",
       "\n",
       "    .dataframe tbody tr th {\n",
       "        vertical-align: top;\n",
       "    }\n",
       "\n",
       "    .dataframe thead th {\n",
       "        text-align: right;\n",
       "    }\n",
       "</style>\n",
       "<table border=\"1\" class=\"dataframe\">\n",
       "  <thead>\n",
       "    <tr style=\"text-align: right;\">\n",
       "      <th></th>\n",
       "      <th>Unnamed: 0</th>\n",
       "      <th>userId</th>\n",
       "      <th>id</th>\n",
       "      <th>id_int</th>\n",
       "      <th>score</th>\n",
       "      <th>visualiza</th>\n",
       "    </tr>\n",
       "  </thead>\n",
       "  <tbody>\n",
       "    <tr>\n",
       "      <th>0</th>\n",
       "      <td>0</td>\n",
       "      <td>1</td>\n",
       "      <td>as680</td>\n",
       "      <td>100680</td>\n",
       "      <td>1.0</td>\n",
       "      <td>0</td>\n",
       "    </tr>\n",
       "    <tr>\n",
       "      <th>1</th>\n",
       "      <td>1</td>\n",
       "      <td>1</td>\n",
       "      <td>ns2186</td>\n",
       "      <td>4002186</td>\n",
       "      <td>4.5</td>\n",
       "      <td>1</td>\n",
       "    </tr>\n",
       "    <tr>\n",
       "      <th>2</th>\n",
       "      <td>2</td>\n",
       "      <td>1</td>\n",
       "      <td>hs2381</td>\n",
       "      <td>3002381</td>\n",
       "      <td>5.0</td>\n",
       "      <td>1</td>\n",
       "    </tr>\n",
       "    <tr>\n",
       "      <th>3</th>\n",
       "      <td>3</td>\n",
       "      <td>1</td>\n",
       "      <td>ns3663</td>\n",
       "      <td>4003663</td>\n",
       "      <td>5.0</td>\n",
       "      <td>1</td>\n",
       "    </tr>\n",
       "    <tr>\n",
       "      <th>4</th>\n",
       "      <td>4</td>\n",
       "      <td>1</td>\n",
       "      <td>as9500</td>\n",
       "      <td>1009500</td>\n",
       "      <td>5.0</td>\n",
       "      <td>1</td>\n",
       "    </tr>\n",
       "    <tr>\n",
       "      <th>...</th>\n",
       "      <td>...</td>\n",
       "      <td>...</td>\n",
       "      <td>...</td>\n",
       "      <td>...</td>\n",
       "      <td>...</td>\n",
       "      <td>...</td>\n",
       "    </tr>\n",
       "    <tr>\n",
       "      <th>11024284</th>\n",
       "      <td>11024284</td>\n",
       "      <td>124380</td>\n",
       "      <td>ns5272</td>\n",
       "      <td>4005272</td>\n",
       "      <td>4.5</td>\n",
       "      <td>1</td>\n",
       "    </tr>\n",
       "    <tr>\n",
       "      <th>11024285</th>\n",
       "      <td>11024285</td>\n",
       "      <td>124380</td>\n",
       "      <td>ns5492</td>\n",
       "      <td>4005492</td>\n",
       "      <td>2.5</td>\n",
       "      <td>0</td>\n",
       "    </tr>\n",
       "    <tr>\n",
       "      <th>11024286</th>\n",
       "      <td>11024286</td>\n",
       "      <td>124380</td>\n",
       "      <td>hs305</td>\n",
       "      <td>300305</td>\n",
       "      <td>3.5</td>\n",
       "      <td>1</td>\n",
       "    </tr>\n",
       "    <tr>\n",
       "      <th>11024287</th>\n",
       "      <td>11024287</td>\n",
       "      <td>124380</td>\n",
       "      <td>ns7881</td>\n",
       "      <td>4007881</td>\n",
       "      <td>4.5</td>\n",
       "      <td>1</td>\n",
       "    </tr>\n",
       "    <tr>\n",
       "      <th>11024288</th>\n",
       "      <td>11024288</td>\n",
       "      <td>124380</td>\n",
       "      <td>as883</td>\n",
       "      <td>100883</td>\n",
       "      <td>1.5</td>\n",
       "      <td>0</td>\n",
       "    </tr>\n",
       "  </tbody>\n",
       "</table>\n",
       "<p>11024289 rows × 6 columns</p>\n",
       "</div>"
      ],
      "text/plain": [
       "          Unnamed: 0  userId      id   id_int  score  visualiza\n",
       "0                  0       1   as680   100680    1.0          0\n",
       "1                  1       1  ns2186  4002186    4.5          1\n",
       "2                  2       1  hs2381  3002381    5.0          1\n",
       "3                  3       1  ns3663  4003663    5.0          1\n",
       "4                  4       1  as9500  1009500    5.0          1\n",
       "...              ...     ...     ...      ...    ...        ...\n",
       "11024284    11024284  124380  ns5272  4005272    4.5          1\n",
       "11024285    11024285  124380  ns5492  4005492    2.5          0\n",
       "11024286    11024286  124380   hs305   300305    3.5          1\n",
       "11024287    11024287  124380  ns7881  4007881    4.5          1\n",
       "11024288    11024288  124380   as883   100883    1.5          0\n",
       "\n",
       "[11024289 rows x 6 columns]"
      ]
     },
     "execution_count": 5,
     "metadata": {},
     "output_type": "execute_result"
    }
   ],
   "source": [
    "data"
   ]
  },
  {
   "cell_type": "code",
   "execution_count": null,
   "metadata": {},
   "outputs": [],
   "source": [
    "# gradio"
   ]
  },
  {
   "cell_type": "code",
   "execution_count": 43,
   "metadata": {},
   "outputs": [
    {
     "name": "stdout",
     "output_type": "stream",
     "text": [
      "Running on local URL:  http://127.0.0.1:7861\n",
      "\n",
      "To create a public link, set `share=True` in `launch()`.\n"
     ]
    },
    {
     "data": {
      "text/html": [
       "<div><iframe src=\"http://127.0.0.1:7861/\" width=\"100%\" height=\"500\" allow=\"autoplay; camera; microphone; clipboard-read; clipboard-write;\" frameborder=\"0\" allowfullscreen></iframe></div>"
      ],
      "text/plain": [
       "<IPython.core.display.HTML object>"
      ]
     },
     "metadata": {},
     "output_type": "display_data"
    },
    {
     "data": {
      "text/plain": []
     },
     "execution_count": 43,
     "metadata": {},
     "output_type": "execute_result"
    }
   ],
   "source": [
    "demo = gr.Interface(\n",
    "    fn=hacer_prediccion,\n",
    "    inputs=[\"text\", \"text\"],\n",
    "    outputs=[\"text\"],\n",
    ")\n",
    "demo.launch()"
   ]
  }
 ],
 "metadata": {
  "kernelspec": {
   "display_name": "Python 3",
   "language": "python",
   "name": "python3"
  },
  "language_info": {
   "codemirror_mode": {
    "name": "ipython",
    "version": 3
   },
   "file_extension": ".py",
   "mimetype": "text/x-python",
   "name": "python",
   "nbconvert_exporter": "python",
   "pygments_lexer": "ipython3",
   "version": "3.10.7"
  },
  "orig_nbformat": 4
 },
 "nbformat": 4,
 "nbformat_minor": 2
}
